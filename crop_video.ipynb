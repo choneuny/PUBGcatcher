{
 "cells": [
  {
   "cell_type": "code",
   "execution_count": null,
   "metadata": {},
   "outputs": [],
   "source": [
    "from moviepy.video.io.VideoFileClip import VideoFileClip\n",
    "from moviepy.video.fx.crop import crop\n",
    "from PIL import Image\n",
    "\n",
    "PROJECT = r'/Users/wonhyeong/Library/Mobile Documents/com~apple~CloudDocs/Desktop/workspace/PUBGcatcher'\n",
    "video_dir = PROJECT + r'/video'\n",
    "video_path = video_dir + r'/cut_video.mp4'"
   ]
  },
  {
   "cell_type": "code",
   "execution_count": null,
   "metadata": {},
   "outputs": [],
   "source": [
    "video = VideoFileClip(video_path) # 200sec\n",
    "\n",
    "wd, ht = video.size # 1920, 1080\n",
    "crop_wd, crop_ht = 400, 300\n",
    "x1, y1 = wd - crop_wd, 0\n",
    "x2, y2 = wd, crop_ht\n",
    "\n",
    "crop(video, x1, y1, x2, y2).write_videofile(f\"{video_dir}/crop_video.mp4\", fps=30)"
   ]
  },
  {
   "cell_type": "code",
   "execution_count": null,
   "metadata": {},
   "outputs": [],
   "source": [
    "cropped_video = VideoFileClip(f\"{video_dir}/crop_video.mp4\")\n",
    "frame = cropped_video.get_frame(93)\n",
    "image = Image.fromarray(frame)\n",
    "image.save(f\"{video_dir}/frame.png\")"
   ]
  }
 ],
 "metadata": {
  "kernelspec": {
   "display_name": "opencv",
   "language": "python",
   "name": "python3"
  },
  "language_info": {
   "name": "python",
   "version": "3.10.12"
  },
  "orig_nbformat": 4
 },
 "nbformat": 4,
 "nbformat_minor": 2
}
