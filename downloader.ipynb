{
 "cells": [
  {
   "cell_type": "code",
   "execution_count": 1,
   "metadata": {},
   "outputs": [],
   "source": [
    "from googleapiclient.discovery import build\n",
    "from googleapiclient.errors import HttpError\n",
    "import keyring\n",
    "\n",
    "\n",
    "api_key = keyring.get_password('youtube_data_api', 'api_key')\n",
    "youtube = build('youtube', 'v3', developerKey=api_key)\n",
    "channel_id = 'UCqJ7MmAjzuQvKWcHe_0XGsA'\n",
    "# https://www.youtube.com/@user-nn8eh3nh2g\n",
    "# 채널 ID 얻는 방법: 비디오 URL의 watch?v= 뒤에 있는 문자열(videoId)를 Youtube Data API의 videos().list(snippet)에 넣어서 얻을 수 있음"
   ]
  },
  {
   "cell_type": "code",
   "execution_count": 2,
   "metadata": {},
   "outputs": [],
   "source": [
    "# keyword와 channel_id로 검색해서 video_id를 얻어옴\n",
    "# video_id로 라이브 방송인지 확인\n",
    "# channel_id는 keyword 검색 결과로 얻어온 video_id를 통해 얻을 수 있음\n",
    "# 당장은 API quota가 적어서 무한루프 불가능, puppeteer 등 이용해서 API 없이 크롤링하게 개선 가능\n",
    "\n",
    "def search_and_fetch(channel_id=None, keyword=None) -> list[str]:\n",
    "    video_ids = []\n",
    "    page_token = None\n",
    "    if (channel_id is None) ^ (keyword is None): # XOR, 둘 다 입력하거나 둘 모두 입력했을 때\n",
    "        print('channel_id와 keyword 중 하나만 입력하세요.')\n",
    "        return video_ids\n",
    "\n",
    "    while True:\n",
    "        try:\n",
    "            response = youtube.search().list(\n",
    "                    part='id',\n",
    "                    type='video',\n",
    "                    channelId=channel_id,\n",
    "                    q=keyword,\n",
    "                    maxResults=50,\n",
    "                    pageToken=page_token\n",
    "                ).execute()\n",
    "\n",
    "            page_token = response.get('nextPageToken')\n",
    "            items = response.get('items')\n",
    "            \n",
    "            if items:\n",
    "                for item in items:\n",
    "                    video_id = item.get('id').get('videoId')\n",
    "                    video_ids.append(video_id) if video_id else None\n",
    "                    \n",
    "        except HttpError as e:\n",
    "            print('HTTP error occurred:')\n",
    "            print(e)\n",
    "            page_token = None\n",
    "\n",
    "        if (page_token is None) or (len(video_ids) >= 500):\n",
    "            break\n",
    "    \n",
    "    return video_ids\n",
    "\n",
    "\n",
    "def check_live(video_id: str) -> bool:\n",
    "    response = youtube.videos().list(\n",
    "        part='liveStreamingDetails',\n",
    "        id=video_id\n",
    "    ).execute()\n",
    "    details = response.get('items')[0].get('liveStreamingDetails')\n",
    "    \n",
    "    return True if details else False"
   ]
  },
  {
   "cell_type": "code",
   "execution_count": null,
   "metadata": {},
   "outputs": [],
   "source": [
    "if __name__ == '__main__':\n",
    "    video_ids = search_and_fetch(channel_id=channel_id)\n",
    "    video_ids = [video_id for video_id in video_ids if check_live(video_id)]\n",
    "\n",
    "    with open('video_ids.txt', 'a') as f:\n",
    "        for video_id in video_ids:\n",
    "            f.write(video_id + '\\n')"
   ]
  },
  {
   "cell_type": "code",
   "execution_count": 4,
   "metadata": {},
   "outputs": [
    {
     "name": "stdout",
     "output_type": "stream",
     "text": [
      "[youtube] Extracting URL: https://www.youtube.com/watch?v=0Nh96W32HhM\n",
      "[youtube] 0Nh96W32HhM: Downloading webpage\n",
      "[youtube] 0Nh96W32HhM: Downloading ios player API JSON\n",
      "[youtube] 0Nh96W32HhM: Downloading android player API JSON\n",
      "[youtube] 0Nh96W32HhM: Downloading m3u8 information\n",
      "[info] 0Nh96W32HhM: Downloading 1 format(s): 299\n",
      "[download] Destination: 후니상 배틀그라운드 [0Nh96W32HhM].mp4\n",
      "\n",
      "[download] 100% of    1.54MiB in 00:00:02 at 755.48KiB/s\n"
     ]
    },
    {
     "name": "stderr",
     "output_type": "stream",
     "text": [
      "Input #0, mov,mp4,m4a,3gp,3g2,mj2, from 'https://rr3---sn-n3cgv5qc5oq-bh2sz.googlevideo.com/videoplayback?expire=1689455564&ei=bLeyZLKqGsWyvcAP5MmSyAs&ip=222.251.220.68&id=o-ABDkmNc4y2haE4-txKM8lFp0URlyb7DEmA2jsDYWYODJ&itag=299&source=youtube&requiressl=yes&mh=85&mm=31%2C26&mn=sn-n3cgv5qc5oq-bh2sz%2Csn-nx57ynsl&ms=au%2Conr&mv=m&mvi=3&pcm2cms=yes&pl=17&initcwndbps=947500&vprv=1&svpuc=1&mime=video%2Fmp4&gir=yes&clen=3231733466&dur=6706.600&lmt=1689064839492039&mt=1689433503&fvip=5&keepalive=yes&fexp=24007246%2C24362686%2C24363391&beids=24350018&c=IOS&txp=7209224&sparams=expire%2Cei%2Cip%2Cid%2Citag%2Csource%2Crequiressl%2Cvprv%2Csvpuc%2Cmime%2Cgir%2Cclen%2Cdur%2Clmt&sig=AOq0QJ8wRQIhAJMgkwowvJs7-pGskvBC3pumdlE3Ipk-Q_jeOiPc6NKRAiAd9ozEshU42t6tAqXEfBQsWDkVKH-j3F-jUXeImlSwgQ%3D%3D&lsparams=mh%2Cmm%2Cmn%2Cms%2Cmv%2Cmvi%2Cpcm2cms%2Cpl%2Cinitcwndbps&lsig=AG3C_xAwRAIgMyKnxx_JJMOP5zEL9q1tpl6FrKHuaGLHAhxQ5hCLPm0CIFnHataE4ryoVLPWDTwuv2a5KTT6Qz60JE35jGW_MEhl':\n",
      "  Metadata:\n",
      "    major_brand     : dash\n",
      "    minor_version   : 0\n",
      "    compatible_brands: iso6avc1mp41\n",
      "    creation_time   : 2023-07-11T08:37:11.000000Z\n",
      "  Duration: 01:51:46.60, start: 0.000000, bitrate: 3854 kb/s\n",
      "  Stream #0:0[0x1](und): Video: h264 (High) (avc1 / 0x31637661), yuv420p(tv, bt709, progressive), 1728x1080 [SAR 1:1 DAR 8:5], 0 kb/s, 60 fps, 60 tbr, 15360 tbn (default)\n",
      "    Metadata:\n",
      "      creation_time   : 2023-07-11T08:37:11.000000Z\n",
      "      handler_name    : ISO Media file produced by Google Inc.\n",
      "      vendor_id       : [0][0][0][0]\n",
      "Output #0, mp4, to 'file:후니상 배틀그라운드 [0Nh96W32HhM].mp4.part':\n",
      "  Metadata:\n",
      "    major_brand     : dash\n",
      "    minor_version   : 0\n",
      "    compatible_brands: iso6avc1mp41\n",
      "    encoder         : Lavf60.3.100\n",
      "  Stream #0:0(und): Video: h264 (High) (avc1 / 0x31637661), yuv420p(tv, bt709, progressive), 1728x1080 [SAR 1:1 DAR 8:5], q=2-31, 0 kb/s, 60 fps, 60 tbr, 15360 tbn (default)\n",
      "    Metadata:\n",
      "      creation_time   : 2023-07-11T08:37:11.000000Z\n",
      "      handler_name    : ISO Media file produced by Google Inc.\n",
      "      vendor_id       : [0][0][0][0]\n",
      "Stream mapping:\n",
      "  Stream #0:0 -> #0:0 (copy)\n",
      "Press [q] to stop, [?] for help\n",
      "frame=    1 fps=0.0 q=-1.0 size=       0kB time=-00:00:00.01 bitrate=N/A speed=N/A    \n",
      "frame=   62 fps=0.0 q=-1.0 size=     256kB time=00:00:01.01 bitrate=2063.1kbits/s speed=1.82x    \n",
      "frame=  301 fps=261 q=-1.0 size=     768kB time=00:00:05.00 bitrate=1258.4kbits/s speed=4.33x    \n",
      "frame=  601 fps=350 q=-1.0 size=    1280kB time=00:00:09.98 bitrate=1050.4kbits/s speed=5.81x    \n",
      "frame=  601 fps=350 q=-1.0 Lsize=    1577kB time=00:00:09.98 bitrate=1294.3kbits/s speed=5.81x    \n",
      "video:1572kB audio:0kB subtitle:0kB other streams:0kB global headers:0kB muxing overhead: 0.357510%\n"
     ]
    }
   ],
   "source": [
    "# YT-DLP 이용 일괄 다운로드, VPN 등 이용 개선 필요\n",
    "\n",
    "with open('video_ids.txt', 'r') as f:\n",
    "    video_ids = f.read().splitlines()\n",
    "    video_ids = list(set(video_ids))\n",
    "\n",
    "for video_id in video_ids[:2]:\n",
    "    yt_commandline = f'yt-dlp https://www.youtube.com/watch?v={video_id} -f \"bv\" --downloader ffmpeg --downloader-args \"ffmpeg_i:-ss 0 -to 10\"'\n",
    "    yt_commandline = f'conda activate youtube&{yt_commandline}'\n",
    "    !powershell {yt_commandline}\n",
    "    break"
   ]
  }
 ],
 "metadata": {
  "kernelspec": {
   "display_name": "youtube",
   "language": "python",
   "name": "python3"
  },
  "language_info": {
   "codemirror_mode": {
    "name": "ipython",
    "version": 3
   },
   "file_extension": ".py",
   "mimetype": "text/x-python",
   "name": "python",
   "nbconvert_exporter": "python",
   "pygments_lexer": "ipython3",
   "version": "3.10.12"
  },
  "orig_nbformat": 4
 },
 "nbformat": 4,
 "nbformat_minor": 2
}
